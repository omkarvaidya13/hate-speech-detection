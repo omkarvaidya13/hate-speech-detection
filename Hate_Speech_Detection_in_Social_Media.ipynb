{
 "cells": [
  {
   "cell_type": "markdown",
   "metadata": {},
   "source": [
    "## Hate Speech Detection in Social Media"
   ]
  },
  {
   "cell_type": "markdown",
   "metadata": {},
   "source": [
    "### Imports"
   ]
  },
  {
   "cell_type": "code",
   "execution_count": 1,
   "metadata": {
    "scrolled": true
   },
   "outputs": [
    {
     "name": "stderr",
     "output_type": "stream",
     "text": [
      "[nltk_data] Downloading package stopwords to\n",
      "[nltk_data]     C:\\Users\\omkar\\AppData\\Roaming\\nltk_data...\n",
      "[nltk_data]   Package stopwords is already up-to-date!\n"
     ]
    }
   ],
   "source": [
    "import numpy as np\n",
    "import pandas as pd\n",
    "import matplotlib.pyplot as plt\n",
    "import nltk\n",
    "import re\n",
    "import seaborn as sns\n",
    "import latex\n",
    "from nltk.corpus import stopwords\n",
    "nltk.download('stopwords')\n",
    "from nltk.stem import PorterStemmer\n",
    "from sklearn.feature_extraction.text import TfidfVectorizer\n",
    "from nltk.tokenize import word_tokenize\n",
    "from sklearn import svm\n",
    "from sklearn.metrics import classification_report\n",
    "from sklearn.model_selection import train_test_split\n",
    "from sklearn.linear_model import LogisticRegression\n",
    "from sklearn.naive_bayes import MultinomialNB\n",
    "from sklearn.ensemble import RandomForestClassifier\n",
    "from sklearn.metrics import confusion_matrix\n",
    "from sklearn.metrics import accuracy_score\n",
    "from sklearn.metrics import precision_score\n",
    "from sklearn.metrics import recall_score\n",
    "from sklearn.metrics import f1_score\n",
    "from sklearn.metrics import plot_confusion_matrix\n",
    "from sklearn.metrics import roc_curve"
   ]
  },
  {
   "cell_type": "markdown",
   "metadata": {},
   "source": [
    "### Reading Data:"
   ]
  },
  {
   "cell_type": "code",
   "execution_count": 2,
   "metadata": {},
   "outputs": [],
   "source": [
    "# Davidson Dataset : https://raw.githubusercontent.com/t-davidson/hate-speech-and-offensive-language/master/data/labeled_data.csv\n",
    "df = pd.read_csv('labeled_data.csv')"
   ]
  },
  {
   "cell_type": "markdown",
   "metadata": {},
   "source": [
    "### Attribute Information:\n",
    "\n",
    "count = no. of CrowdFlower users who coded each tweet (min - 3, max upto 9).\n",
    "\n",
    "hate_speech = no. of CF users that classified tweet to be hate speech.\n",
    "\n",
    "offensive_language = no. of CF users that classified tweet to be offensive.\n",
    "\n",
    "neither = no. of CF users that classified tweet to be neither offensive nor non-offensive.\n",
    "\n",
    "class = class label for majority of CF users. \n",
    "0 - hate speech \n",
    "1 - offensive language \n",
    "2 - neither"
   ]
  },
  {
   "cell_type": "code",
   "execution_count": 3,
   "metadata": {},
   "outputs": [
    {
     "data": {
      "text/html": [
       "<div>\n",
       "<style scoped>\n",
       "    .dataframe tbody tr th:only-of-type {\n",
       "        vertical-align: middle;\n",
       "    }\n",
       "\n",
       "    .dataframe tbody tr th {\n",
       "        vertical-align: top;\n",
       "    }\n",
       "\n",
       "    .dataframe thead th {\n",
       "        text-align: right;\n",
       "    }\n",
       "</style>\n",
       "<table border=\"1\" class=\"dataframe\">\n",
       "  <thead>\n",
       "    <tr style=\"text-align: right;\">\n",
       "      <th></th>\n",
       "      <th>Unnamed: 0</th>\n",
       "      <th>count</th>\n",
       "      <th>hate_speech</th>\n",
       "      <th>offensive_language</th>\n",
       "      <th>neither</th>\n",
       "      <th>class</th>\n",
       "      <th>tweet</th>\n",
       "    </tr>\n",
       "  </thead>\n",
       "  <tbody>\n",
       "    <tr>\n",
       "      <th>0</th>\n",
       "      <td>0</td>\n",
       "      <td>3</td>\n",
       "      <td>0</td>\n",
       "      <td>0</td>\n",
       "      <td>3</td>\n",
       "      <td>2</td>\n",
       "      <td>!!! RT @mayasolovely: As a woman you shouldn't...</td>\n",
       "    </tr>\n",
       "    <tr>\n",
       "      <th>1</th>\n",
       "      <td>1</td>\n",
       "      <td>3</td>\n",
       "      <td>0</td>\n",
       "      <td>3</td>\n",
       "      <td>0</td>\n",
       "      <td>1</td>\n",
       "      <td>!!!!! RT @mleew17: boy dats cold...tyga dwn ba...</td>\n",
       "    </tr>\n",
       "    <tr>\n",
       "      <th>2</th>\n",
       "      <td>2</td>\n",
       "      <td>3</td>\n",
       "      <td>0</td>\n",
       "      <td>3</td>\n",
       "      <td>0</td>\n",
       "      <td>1</td>\n",
       "      <td>!!!!!!! RT @UrKindOfBrand Dawg!!!! RT @80sbaby...</td>\n",
       "    </tr>\n",
       "    <tr>\n",
       "      <th>3</th>\n",
       "      <td>3</td>\n",
       "      <td>3</td>\n",
       "      <td>0</td>\n",
       "      <td>2</td>\n",
       "      <td>1</td>\n",
       "      <td>1</td>\n",
       "      <td>!!!!!!!!! RT @C_G_Anderson: @viva_based she lo...</td>\n",
       "    </tr>\n",
       "    <tr>\n",
       "      <th>4</th>\n",
       "      <td>4</td>\n",
       "      <td>6</td>\n",
       "      <td>0</td>\n",
       "      <td>6</td>\n",
       "      <td>0</td>\n",
       "      <td>1</td>\n",
       "      <td>!!!!!!!!!!!!! RT @ShenikaRoberts: The shit you...</td>\n",
       "    </tr>\n",
       "  </tbody>\n",
       "</table>\n",
       "</div>"
      ],
      "text/plain": [
       "   Unnamed: 0  count  hate_speech  offensive_language  neither  class  \\\n",
       "0           0      3            0                   0        3      2   \n",
       "1           1      3            0                   3        0      1   \n",
       "2           2      3            0                   3        0      1   \n",
       "3           3      3            0                   2        1      1   \n",
       "4           4      6            0                   6        0      1   \n",
       "\n",
       "                                               tweet  \n",
       "0  !!! RT @mayasolovely: As a woman you shouldn't...  \n",
       "1  !!!!! RT @mleew17: boy dats cold...tyga dwn ba...  \n",
       "2  !!!!!!! RT @UrKindOfBrand Dawg!!!! RT @80sbaby...  \n",
       "3  !!!!!!!!! RT @C_G_Anderson: @viva_based she lo...  \n",
       "4  !!!!!!!!!!!!! RT @ShenikaRoberts: The shit you...  "
      ]
     },
     "execution_count": 3,
     "metadata": {},
     "output_type": "execute_result"
    }
   ],
   "source": [
    "df.head()"
   ]
  },
  {
   "cell_type": "code",
   "execution_count": 4,
   "metadata": {},
   "outputs": [
    {
     "data": {
      "text/plain": [
       "0     !!! RT @mayasolovely: As a woman you shouldn't...\n",
       "1     !!!!! RT @mleew17: boy dats cold...tyga dwn ba...\n",
       "2     !!!!!!! RT @UrKindOfBrand Dawg!!!! RT @80sbaby...\n",
       "3     !!!!!!!!! RT @C_G_Anderson: @viva_based she lo...\n",
       "4     !!!!!!!!!!!!! RT @ShenikaRoberts: The shit you...\n",
       "5     !!!!!!!!!!!!!!!!!!\"@T_Madison_x: The shit just...\n",
       "6     !!!!!!\"@__BrighterDays: I can not just sit up ...\n",
       "7     !!!!&#8220;@selfiequeenbri: cause I'm tired of...\n",
       "8     \" &amp; you might not get ya bitch back &amp; ...\n",
       "9     \" @rhythmixx_ :hobbies include: fighting Maria...\n",
       "10    \" Keeks is a bitch she curves everyone \" lol I...\n",
       "11                   \" Murda Gang bitch its Gang Land \"\n",
       "12    \" So hoes that smoke are losers ? \" yea ... go...\n",
       "13        \" bad bitches is the only thing that i like \"\n",
       "14                              \" bitch get up off me \"\n",
       "15                      \" bitch nigga miss me with it \"\n",
       "16                               \" bitch plz whatever \"\n",
       "17                            \" bitch who do you love \"\n",
       "18                   \" bitches get cut off everyday B \"\n",
       "19                   \" black bottle &amp; a bad bitch \"\n",
       "Name: tweet, dtype: object"
      ]
     },
     "execution_count": 4,
     "metadata": {},
     "output_type": "execute_result"
    }
   ],
   "source": [
    "df.tweet.head(20)"
   ]
  },
  {
   "cell_type": "code",
   "execution_count": 5,
   "metadata": {
    "scrolled": true
   },
   "outputs": [
    {
     "data": {
      "text/html": [
       "<div>\n",
       "<style scoped>\n",
       "    .dataframe tbody tr th:only-of-type {\n",
       "        vertical-align: middle;\n",
       "    }\n",
       "\n",
       "    .dataframe tbody tr th {\n",
       "        vertical-align: top;\n",
       "    }\n",
       "\n",
       "    .dataframe thead th {\n",
       "        text-align: right;\n",
       "    }\n",
       "</style>\n",
       "<table border=\"1\" class=\"dataframe\">\n",
       "  <thead>\n",
       "    <tr style=\"text-align: right;\">\n",
       "      <th></th>\n",
       "      <th>count</th>\n",
       "      <th>hate_speech</th>\n",
       "      <th>offensive_language</th>\n",
       "      <th>neither</th>\n",
       "      <th>class</th>\n",
       "      <th>tweet</th>\n",
       "    </tr>\n",
       "  </thead>\n",
       "  <tbody>\n",
       "    <tr>\n",
       "      <th>0</th>\n",
       "      <td>3</td>\n",
       "      <td>0</td>\n",
       "      <td>0</td>\n",
       "      <td>3</td>\n",
       "      <td>2</td>\n",
       "      <td>!!! RT @mayasolovely: As a woman you shouldn't...</td>\n",
       "    </tr>\n",
       "    <tr>\n",
       "      <th>1</th>\n",
       "      <td>3</td>\n",
       "      <td>0</td>\n",
       "      <td>3</td>\n",
       "      <td>0</td>\n",
       "      <td>1</td>\n",
       "      <td>!!!!! RT @mleew17: boy dats cold...tyga dwn ba...</td>\n",
       "    </tr>\n",
       "    <tr>\n",
       "      <th>2</th>\n",
       "      <td>3</td>\n",
       "      <td>0</td>\n",
       "      <td>3</td>\n",
       "      <td>0</td>\n",
       "      <td>1</td>\n",
       "      <td>!!!!!!! RT @UrKindOfBrand Dawg!!!! RT @80sbaby...</td>\n",
       "    </tr>\n",
       "    <tr>\n",
       "      <th>3</th>\n",
       "      <td>3</td>\n",
       "      <td>0</td>\n",
       "      <td>2</td>\n",
       "      <td>1</td>\n",
       "      <td>1</td>\n",
       "      <td>!!!!!!!!! RT @C_G_Anderson: @viva_based she lo...</td>\n",
       "    </tr>\n",
       "    <tr>\n",
       "      <th>4</th>\n",
       "      <td>6</td>\n",
       "      <td>0</td>\n",
       "      <td>6</td>\n",
       "      <td>0</td>\n",
       "      <td>1</td>\n",
       "      <td>!!!!!!!!!!!!! RT @ShenikaRoberts: The shit you...</td>\n",
       "    </tr>\n",
       "  </tbody>\n",
       "</table>\n",
       "</div>"
      ],
      "text/plain": [
       "   count  hate_speech  offensive_language  neither  class  \\\n",
       "0      3            0                   0        3      2   \n",
       "1      3            0                   3        0      1   \n",
       "2      3            0                   3        0      1   \n",
       "3      3            0                   2        1      1   \n",
       "4      6            0                   6        0      1   \n",
       "\n",
       "                                               tweet  \n",
       "0  !!! RT @mayasolovely: As a woman you shouldn't...  \n",
       "1  !!!!! RT @mleew17: boy dats cold...tyga dwn ba...  \n",
       "2  !!!!!!! RT @UrKindOfBrand Dawg!!!! RT @80sbaby...  \n",
       "3  !!!!!!!!! RT @C_G_Anderson: @viva_based she lo...  \n",
       "4  !!!!!!!!!!!!! RT @ShenikaRoberts: The shit you...  "
      ]
     },
     "execution_count": 5,
     "metadata": {},
     "output_type": "execute_result"
    }
   ],
   "source": [
    "# Selecting important attributes:\n",
    "df = df.iloc[:, [1,2,3,4,5,6]]\n",
    "df.head()"
   ]
  },
  {
   "cell_type": "markdown",
   "metadata": {},
   "source": [
    "### Defining  a few things:"
   ]
  },
  {
   "cell_type": "code",
   "execution_count": 6,
   "metadata": {},
   "outputs": [],
   "source": [
    "tweets = df.tweet\n",
    "df.rename(columns = {'class':'emotion_class'}, inplace = True)\n",
    "emotions = df.emotion_class\n",
    "class_labels = ['Hate Speech', 'Offensive', 'Neither']\n",
    "n_class = 3"
   ]
  },
  {
   "cell_type": "markdown",
   "metadata": {},
   "source": [
    "### Preprocessing"
   ]
  },
  {
   "cell_type": "code",
   "execution_count": 7,
   "metadata": {},
   "outputs": [],
   "source": [
    "# Collection of stopwords\n",
    "stopwords = nltk.corpus.stopwords.words(\"english\")\n",
    "\n",
    "other_exclusions = [\"#ff\", \"ff\", \"rt\"]\n",
    "stopwords.extend(other_exclusions)\n",
    "\n",
    "# Defining Stemmer\n",
    "ps = PorterStemmer()"
   ]
  },
  {
   "cell_type": "code",
   "execution_count": 8,
   "metadata": {},
   "outputs": [],
   "source": [
    "# To remove extra spaces, twitter handles (@...) and URLs (https...)\n",
    "def cleaning(tweet):\n",
    "    space_regex = '\\s+'\n",
    "    url_regex = ('http[s]?://(?:[a-zA-Z]|[0-9]|[$-_@.&+]|''[!*\\(\\),]|(?:%[0-9a-fA-F][0-9a-fA-F]))+')\n",
    "    mention_regex = '@[\\w\\-]+'\n",
    "    clean_tweet = re.sub(space_regex, ' ', tweet)\n",
    "    clean_tweet = re.sub(url_regex, '', clean_tweet)\n",
    "    clean_tweet = re.sub(mention_regex, '', clean_tweet)\n",
    "    \n",
    "    return clean_tweet"
   ]
  },
  {
   "cell_type": "code",
   "execution_count": 9,
   "metadata": {},
   "outputs": [],
   "source": [
    "# To lowercase, tokenize and stem tweets\n",
    "def tfidf_stem_tokenize(tweet):\n",
    "    tweet = tweet.lower()\n",
    "    tweet = re.split(\"[^a-zA-Z]*\",tweet)\n",
    "    tweet = \" \".join(tweet).strip()\n",
    "    tokens = [ps.stem(t) for t in tweet.split()]\n",
    "\n",
    "    return tokens"
   ]
  },
  {
   "cell_type": "code",
   "execution_count": 10,
   "metadata": {},
   "outputs": [],
   "source": [
    "# To tokenize tweets to generate POS Tags\n",
    "def pos_tokenize(tweet):\n",
    "    tweet = tweet.lower()\n",
    "    tweet = re.sub('[^a-zA-Z]+', ' ', tweet).strip()\n",
    "    tweet = word_tokenize(tweet)\n",
    "    \n",
    "    return tweet"
   ]
  },
  {
   "cell_type": "code",
   "execution_count": 11,
   "metadata": {},
   "outputs": [
    {
     "data": {
      "text/plain": [
       "\"!!! RT @mayasolovely: As a woman you shouldn't complain about cleaning up your house. &amp; as a man you should always take the trash out...\""
      ]
     },
     "execution_count": 11,
     "metadata": {},
     "output_type": "execute_result"
    }
   ],
   "source": [
    "# Initially:\n",
    "tweets[0]"
   ]
  },
  {
   "cell_type": "code",
   "execution_count": 12,
   "metadata": {},
   "outputs": [
    {
     "data": {
      "text/plain": [
       "\"!!! RT : As a woman you shouldn't complain about cleaning up your house. &amp; as a man you should always take the trash out...\""
      ]
     },
     "execution_count": 12,
     "metadata": {},
     "output_type": "execute_result"
    }
   ],
   "source": [
    "# Removing Twitter handles, URLS, spaces\n",
    "cleaning(tweets[0])"
   ]
  },
  {
   "cell_type": "code",
   "execution_count": 13,
   "metadata": {},
   "outputs": [
    {
     "data": {
      "text/plain": [
       "['rt',\n",
       " 'mayasolovely',\n",
       " 'as',\n",
       " 'a',\n",
       " 'woman',\n",
       " 'you',\n",
       " 'shouldn',\n",
       " 't',\n",
       " 'complain',\n",
       " 'about',\n",
       " 'cleaning',\n",
       " 'up',\n",
       " 'your',\n",
       " 'house',\n",
       " 'amp',\n",
       " 'as',\n",
       " 'a',\n",
       " 'man',\n",
       " 'you',\n",
       " 'should',\n",
       " 'always',\n",
       " 'take',\n",
       " 'the',\n",
       " 'trash',\n",
       " 'out']"
      ]
     },
     "execution_count": 13,
     "metadata": {},
     "output_type": "execute_result"
    }
   ],
   "source": [
    "# Tokenization to generate POS Tag:\n",
    "pos_tokenize(tweets[0])"
   ]
  },
  {
   "cell_type": "markdown",
   "metadata": {},
   "source": [
    "### Feature Generation:"
   ]
  },
  {
   "cell_type": "code",
   "execution_count": 14,
   "metadata": {},
   "outputs": [],
   "source": [
    "# TF-IDF Vectorization to create unigram, bigrams and trigrams for tweets \n",
    "vectorizer = TfidfVectorizer(ngram_range=(1, 3),stop_words=stopwords, preprocessor=cleaning, tokenizer=tfidf_stem_tokenize,\n",
    "    smooth_idf=False,\n",
    "    norm=None,\n",
    "    decode_error='replace',\n",
    "    max_features=10000,\n",
    "    min_df=5,\n",
    "    max_df=0.8\n",
    "    )"
   ]
  },
  {
   "cell_type": "code",
   "execution_count": 15,
   "metadata": {},
   "outputs": [
    {
     "name": "stderr",
     "output_type": "stream",
     "text": [
      "C:\\Users\\omkar\\Anaconda3\\lib\\site-packages\\sklearn\\feature_extraction\\text.py:386: UserWarning: Your stop_words may be inconsistent with your preprocessing. Tokenizing the stop words generated tokens ['b', 'c', 'e', 'f', 'g', 'h', 'j', 'l', 'n', 'p', 'r', 'u', 'v', 'w'] not in stop_words.\n",
      "  'stop_words.' % sorted(inconsistent))\n"
     ]
    }
   ],
   "source": [
    "# Construct the TF-IDF matrix and scores for each tweet\n",
    "tfidf = vectorizer.fit_transform(tweets).toarray()"
   ]
  },
  {
   "cell_type": "code",
   "execution_count": 16,
   "metadata": {},
   "outputs": [
    {
     "data": {
      "text/plain": [
       "(24783, 3423)"
      ]
     },
     "execution_count": 16,
     "metadata": {},
     "output_type": "execute_result"
    }
   ],
   "source": [
    "tfidf.shape"
   ]
  },
  {
   "cell_type": "code",
   "execution_count": 17,
   "metadata": {},
   "outputs": [],
   "source": [
    "# Tokenize tweets and create POS Tags for each tweet\n",
    "tweet_tags = []\n",
    "for tweet in tweets:\n",
    "    tweet_tokens = pos_tokenize(cleaning(tweet))\n",
    "    tag = nltk.pos_tag(tweet_tokens)\n",
    "    tag_list = [x[1] for x in tag]\n",
    "    tag_str = \" \".join(tag_list)\n",
    "    tweet_tags.append(tag_str)"
   ]
  },
  {
   "cell_type": "code",
   "execution_count": 18,
   "metadata": {},
   "outputs": [],
   "source": [
    "# Create unigram,bigram,trigram features using POS Tags to capture syntactic structure\n",
    "pos_vectorizer = TfidfVectorizer(ngram_range=(1, 3),decode_error='replace',max_features=10000,min_df=5,max_df=0.75)"
   ]
  },
  {
   "cell_type": "code",
   "execution_count": 19,
   "metadata": {},
   "outputs": [],
   "source": [
    "#Construct POS TF-IDF matrix for each tweet\n",
    "pos = pos_vectorizer.fit_transform(pd.Series(tweet_tags)).toarray()"
   ]
  },
  {
   "cell_type": "code",
   "execution_count": 20,
   "metadata": {},
   "outputs": [
    {
     "data": {
      "text/plain": [
       "(24783, 4170)"
      ]
     },
     "execution_count": 20,
     "metadata": {},
     "output_type": "execute_result"
    }
   ],
   "source": [
    "pos.shape"
   ]
  },
  {
   "cell_type": "code",
   "execution_count": 21,
   "metadata": {},
   "outputs": [],
   "source": [
    "# Combine all the features for each tweet\n",
    "data = np.concatenate([tfidf,pos],axis=1)"
   ]
  },
  {
   "cell_type": "code",
   "execution_count": 22,
   "metadata": {},
   "outputs": [
    {
     "data": {
      "text/plain": [
       "(24783, 7593)"
      ]
     },
     "execution_count": 22,
     "metadata": {},
     "output_type": "execute_result"
    }
   ],
   "source": [
    "data.shape"
   ]
  },
  {
   "cell_type": "code",
   "execution_count": 23,
   "metadata": {},
   "outputs": [],
   "source": [
    "X = pd.DataFrame(data)\n",
    "y = df['emotion_class'].astype(int)"
   ]
  },
  {
   "cell_type": "code",
   "execution_count": 24,
   "metadata": {},
   "outputs": [
    {
     "data": {
      "text/html": [
       "<div>\n",
       "<style scoped>\n",
       "    .dataframe tbody tr th:only-of-type {\n",
       "        vertical-align: middle;\n",
       "    }\n",
       "\n",
       "    .dataframe tbody tr th {\n",
       "        vertical-align: top;\n",
       "    }\n",
       "\n",
       "    .dataframe thead th {\n",
       "        text-align: right;\n",
       "    }\n",
       "</style>\n",
       "<table border=\"1\" class=\"dataframe\">\n",
       "  <thead>\n",
       "    <tr style=\"text-align: right;\">\n",
       "      <th></th>\n",
       "      <th>0</th>\n",
       "      <th>1</th>\n",
       "      <th>2</th>\n",
       "      <th>3</th>\n",
       "      <th>4</th>\n",
       "      <th>5</th>\n",
       "      <th>6</th>\n",
       "      <th>7</th>\n",
       "      <th>8</th>\n",
       "      <th>9</th>\n",
       "      <th>...</th>\n",
       "      <th>7583</th>\n",
       "      <th>7584</th>\n",
       "      <th>7585</th>\n",
       "      <th>7586</th>\n",
       "      <th>7587</th>\n",
       "      <th>7588</th>\n",
       "      <th>7589</th>\n",
       "      <th>7590</th>\n",
       "      <th>7591</th>\n",
       "      <th>7592</th>\n",
       "    </tr>\n",
       "  </thead>\n",
       "  <tbody>\n",
       "    <tr>\n",
       "      <th>24778</th>\n",
       "      <td>2.583261</td>\n",
       "      <td>3.907834</td>\n",
       "      <td>0.0</td>\n",
       "      <td>0.0</td>\n",
       "      <td>0.0</td>\n",
       "      <td>0.0</td>\n",
       "      <td>0.0</td>\n",
       "      <td>0.0</td>\n",
       "      <td>0.0</td>\n",
       "      <td>5.958858</td>\n",
       "      <td>...</td>\n",
       "      <td>0.0</td>\n",
       "      <td>0.0</td>\n",
       "      <td>0.0</td>\n",
       "      <td>0.0</td>\n",
       "      <td>0.0</td>\n",
       "      <td>0.0</td>\n",
       "      <td>0.0</td>\n",
       "      <td>0.0</td>\n",
       "      <td>0.0</td>\n",
       "      <td>0.0</td>\n",
       "    </tr>\n",
       "    <tr>\n",
       "      <th>24779</th>\n",
       "      <td>3.874892</td>\n",
       "      <td>3.907834</td>\n",
       "      <td>0.0</td>\n",
       "      <td>0.0</td>\n",
       "      <td>0.0</td>\n",
       "      <td>0.0</td>\n",
       "      <td>0.0</td>\n",
       "      <td>0.0</td>\n",
       "      <td>0.0</td>\n",
       "      <td>0.000000</td>\n",
       "      <td>...</td>\n",
       "      <td>0.0</td>\n",
       "      <td>0.0</td>\n",
       "      <td>0.0</td>\n",
       "      <td>0.0</td>\n",
       "      <td>0.0</td>\n",
       "      <td>0.0</td>\n",
       "      <td>0.0</td>\n",
       "      <td>0.0</td>\n",
       "      <td>0.0</td>\n",
       "      <td>0.0</td>\n",
       "    </tr>\n",
       "    <tr>\n",
       "      <th>24780</th>\n",
       "      <td>1.291631</td>\n",
       "      <td>0.000000</td>\n",
       "      <td>0.0</td>\n",
       "      <td>0.0</td>\n",
       "      <td>0.0</td>\n",
       "      <td>0.0</td>\n",
       "      <td>0.0</td>\n",
       "      <td>0.0</td>\n",
       "      <td>0.0</td>\n",
       "      <td>0.000000</td>\n",
       "      <td>...</td>\n",
       "      <td>0.0</td>\n",
       "      <td>0.0</td>\n",
       "      <td>0.0</td>\n",
       "      <td>0.0</td>\n",
       "      <td>0.0</td>\n",
       "      <td>0.0</td>\n",
       "      <td>0.0</td>\n",
       "      <td>0.0</td>\n",
       "      <td>0.0</td>\n",
       "      <td>0.0</td>\n",
       "    </tr>\n",
       "    <tr>\n",
       "      <th>24781</th>\n",
       "      <td>1.291631</td>\n",
       "      <td>0.000000</td>\n",
       "      <td>0.0</td>\n",
       "      <td>0.0</td>\n",
       "      <td>0.0</td>\n",
       "      <td>0.0</td>\n",
       "      <td>0.0</td>\n",
       "      <td>0.0</td>\n",
       "      <td>0.0</td>\n",
       "      <td>0.000000</td>\n",
       "      <td>...</td>\n",
       "      <td>0.0</td>\n",
       "      <td>0.0</td>\n",
       "      <td>0.0</td>\n",
       "      <td>0.0</td>\n",
       "      <td>0.0</td>\n",
       "      <td>0.0</td>\n",
       "      <td>0.0</td>\n",
       "      <td>0.0</td>\n",
       "      <td>0.0</td>\n",
       "      <td>0.0</td>\n",
       "    </tr>\n",
       "    <tr>\n",
       "      <th>24782</th>\n",
       "      <td>2.583261</td>\n",
       "      <td>0.000000</td>\n",
       "      <td>0.0</td>\n",
       "      <td>0.0</td>\n",
       "      <td>0.0</td>\n",
       "      <td>0.0</td>\n",
       "      <td>0.0</td>\n",
       "      <td>0.0</td>\n",
       "      <td>0.0</td>\n",
       "      <td>0.000000</td>\n",
       "      <td>...</td>\n",
       "      <td>0.0</td>\n",
       "      <td>0.0</td>\n",
       "      <td>0.0</td>\n",
       "      <td>0.0</td>\n",
       "      <td>0.0</td>\n",
       "      <td>0.0</td>\n",
       "      <td>0.0</td>\n",
       "      <td>0.0</td>\n",
       "      <td>0.0</td>\n",
       "      <td>0.0</td>\n",
       "    </tr>\n",
       "  </tbody>\n",
       "</table>\n",
       "<p>5 rows × 7593 columns</p>\n",
       "</div>"
      ],
      "text/plain": [
       "           0         1     2     3     4     5     6     7     8         9     \\\n",
       "24778  2.583261  3.907834   0.0   0.0   0.0   0.0   0.0   0.0   0.0  5.958858   \n",
       "24779  3.874892  3.907834   0.0   0.0   0.0   0.0   0.0   0.0   0.0  0.000000   \n",
       "24780  1.291631  0.000000   0.0   0.0   0.0   0.0   0.0   0.0   0.0  0.000000   \n",
       "24781  1.291631  0.000000   0.0   0.0   0.0   0.0   0.0   0.0   0.0  0.000000   \n",
       "24782  2.583261  0.000000   0.0   0.0   0.0   0.0   0.0   0.0   0.0  0.000000   \n",
       "\n",
       "       ...  7583  7584  7585  7586  7587  7588  7589  7590  7591  7592  \n",
       "24778  ...   0.0   0.0   0.0   0.0   0.0   0.0   0.0   0.0   0.0   0.0  \n",
       "24779  ...   0.0   0.0   0.0   0.0   0.0   0.0   0.0   0.0   0.0   0.0  \n",
       "24780  ...   0.0   0.0   0.0   0.0   0.0   0.0   0.0   0.0   0.0   0.0  \n",
       "24781  ...   0.0   0.0   0.0   0.0   0.0   0.0   0.0   0.0   0.0   0.0  \n",
       "24782  ...   0.0   0.0   0.0   0.0   0.0   0.0   0.0   0.0   0.0   0.0  \n",
       "\n",
       "[5 rows x 7593 columns]"
      ]
     },
     "execution_count": 24,
     "metadata": {},
     "output_type": "execute_result"
    }
   ],
   "source": [
    "X.tail()"
   ]
  },
  {
   "cell_type": "markdown",
   "metadata": {},
   "source": [
    "### Train-Test Split"
   ]
  },
  {
   "cell_type": "code",
   "execution_count": 25,
   "metadata": {},
   "outputs": [],
   "source": [
    "# Splitting the dataset into 80%:20% split into training data and testing data respectively.\n",
    "X_train, X_test, y_train, y_test = train_test_split(X, y, random_state=123, test_size=0.2)"
   ]
  },
  {
   "cell_type": "markdown",
   "metadata": {},
   "source": [
    "### Support Vector Machine (SVM)"
   ]
  },
  {
   "cell_type": "code",
   "execution_count": 26,
   "metadata": {},
   "outputs": [
    {
     "name": "stderr",
     "output_type": "stream",
     "text": [
      "C:\\Users\\omkar\\Anaconda3\\lib\\site-packages\\sklearn\\svm\\_base.py:977: ConvergenceWarning: Liblinear failed to converge, increase the number of iterations.\n",
      "  \"the number of iterations.\", ConvergenceWarning)\n"
     ]
    },
    {
     "data": {
      "text/plain": [
       "LinearSVC(class_weight='balanced')"
      ]
     },
     "execution_count": 26,
     "metadata": {},
     "output_type": "execute_result"
    }
   ],
   "source": [
    "# Defining SVM Model:\n",
    "svm_model = svm.LinearSVC(class_weight='balanced')\n",
    "svm_model.fit(X_train, y_train)"
   ]
  },
  {
   "cell_type": "code",
   "execution_count": 27,
   "metadata": {
    "scrolled": true
   },
   "outputs": [
    {
     "name": "stdout",
     "output_type": "stream",
     "text": [
      "              precision    recall  f1-score   support\n",
      "\n",
      "           0       0.22      0.27      0.25       295\n",
      "           1       0.88      0.87      0.87      3814\n",
      "           2       0.62      0.61      0.62       848\n",
      "\n",
      "    accuracy                           0.79      4957\n",
      "   macro avg       0.57      0.58      0.58      4957\n",
      "weighted avg       0.80      0.79      0.79      4957\n",
      "\n"
     ]
    }
   ],
   "source": [
    "# Performing Classification on the test data:\n",
    "svm_y_pred = svm_model.predict(X_test)\n",
    "svm_report = classification_report(y_test, svm_y_pred)\n",
    "print(svm_report)"
   ]
  },
  {
   "cell_type": "code",
   "execution_count": 28,
   "metadata": {
    "scrolled": true
   },
   "outputs": [
    {
     "name": "stdout",
     "output_type": "stream",
     "text": [
      "Test Accuracy:  0.7891870082711318\n"
     ]
    }
   ],
   "source": [
    "# Calculating Accuracy:\n",
    "svm_accuracy = accuracy_score(y_test, svm_y_pred)\n",
    "print('Test Accuracy: ',svm_accuracy)"
   ]
  },
  {
   "cell_type": "code",
   "execution_count": 29,
   "metadata": {
    "scrolled": true
   },
   "outputs": [
    {
     "name": "stdout",
     "output_type": "stream",
     "text": [
      "Precision:  0.7969077849767118\n",
      "Recall:  0.7891870082711318\n",
      "F1-Score:  0.7928745567082588\n"
     ]
    }
   ],
   "source": [
    "# Calculating Precion score, Recall score and F1 score:\n",
    "svm_ps = precision_score(y_test, svm_y_pred, average = 'weighted')\n",
    "svm_rs = recall_score(y_test, svm_y_pred, average = 'weighted')\n",
    "svm_f1 = f1_score(y_test, svm_y_pred, average = 'weighted')\n",
    "print('Precision: ',svm_ps)\n",
    "print('Recall: ',svm_rs)\n",
    "print('F1-Score: ',svm_f1)"
   ]
  },
  {
   "cell_type": "code",
   "execution_count": 30,
   "metadata": {
    "scrolled": true
   },
   "outputs": [
    {
     "name": "stdout",
     "output_type": "stream",
     "text": [
      "Confusion Matrix: \n",
      " [[  80  173   42]\n",
      " [ 224 3314  276]\n",
      " [  54  276  518]]\n"
     ]
    }
   ],
   "source": [
    "# Calculating Confusion Matrix:\n",
    "svm_cm = confusion_matrix(y_test, svm_y_pred)\n",
    "print('Confusion Matrix: \\n',svm_cm)"
   ]
  },
  {
   "cell_type": "code",
   "execution_count": 31,
   "metadata": {
    "scrolled": false
   },
   "outputs": [
    {
     "data": {
      "image/png": "[encoded data removed]",
      "text/plain": [
       "<Figure size 432x288 with 2 Axes>"
      ]
     },
     "metadata": {
      "needs_background": "light"
     },
     "output_type": "display_data"
    }
   ],
   "source": [
    "# Plotting Confusion Matrix:\n",
    "plot_confusion_matrix(svm_model,X_test, y_test, cmap=plt.cm.Blues, display_labels = class_labels)\n",
    "plt.title('Confusion Matrix - SVM')\n",
    "plt.show()"
   ]
  },
  {
   "cell_type": "markdown",
   "metadata": {},
   "source": [
    "### L1 Logistic Regression"
   ]
  },
  {
   "cell_type": "code",
   "execution_count": 32,
   "metadata": {},
   "outputs": [
    {
     "data": {
      "text/plain": [
       "LogisticRegression(penalty='l1', solver='liblinear')"
      ]
     },
     "execution_count": 32,
     "metadata": {},
     "output_type": "execute_result"
    }
   ],
   "source": [
    "# Defining L1 Logistic Regression Model:\n",
    "l1_model = LogisticRegression(penalty='l1', solver='liblinear')\n",
    "l1_model.fit(X_train, y_train)"
   ]
  },
  {
   "cell_type": "code",
   "execution_count": 33,
   "metadata": {},
   "outputs": [
    {
     "name": "stdout",
     "output_type": "stream",
     "text": [
      "              precision    recall  f1-score   support\n",
      "\n",
      "           0       0.32      0.22      0.26       295\n",
      "           1       0.88      0.91      0.90      3814\n",
      "           2       0.68      0.64      0.66       848\n",
      "\n",
      "    accuracy                           0.82      4957\n",
      "   macro avg       0.62      0.59      0.61      4957\n",
      "weighted avg       0.81      0.82      0.82      4957\n",
      "\n"
     ]
    }
   ],
   "source": [
    "# Performing Classification on the test data:\n",
    "l1_y_pred = l1_model.predict(X_test)\n",
    "l1_y_proba = l1_model.predict_proba(X_test)\n",
    "l1_report = classification_report(y_test, l1_y_pred)\n",
    "print(l1_report)"
   ]
  },
  {
   "cell_type": "code",
   "execution_count": 35,
   "metadata": {
    "scrolled": true
   },
   "outputs": [
    {
     "name": "stdout",
     "output_type": "stream",
     "text": [
      "Accuracy:  0.8242888844058907\n"
     ]
    }
   ],
   "source": [
    "# Calculating Accuracy:\n",
    "l1_accuracy = accuracy_score(y_test, l1_y_pred)\n",
    "print('Accuracy: ',l1_accuracy)"
   ]
  },
  {
   "cell_type": "code",
   "execution_count": 36,
   "metadata": {},
   "outputs": [
    {
     "name": "stdout",
     "output_type": "stream",
     "text": [
      "Precision:  0.8125136727232647\n",
      "Recall:  0.8242888844058907\n",
      "F1-Score:  0.8176327496565615\n"
     ]
    }
   ],
   "source": [
    "# Calculating Precion score, Recall score and F1 score:\n",
    "l1_ps = precision_score(y_test, l1_y_pred, average = 'weighted')\n",
    "l1_rs = recall_score(y_test, l1_y_pred, average = 'weighted')\n",
    "l1_f1 = f1_score(y_test, l1_y_pred, average = 'weighted')\n",
    "print('Precision: ',l1_ps)\n",
    "print('Recall: ',l1_rs)\n",
    "print('F1-Score: ',l1_f1)"
   ]
  },
  {
   "cell_type": "code",
   "execution_count": 34,
   "metadata": {
    "scrolled": true
   },
   "outputs": [
    {
     "name": "stdout",
     "output_type": "stream",
     "text": [
      "Confusion Matrix: \n",
      " [[  66  189   40]\n",
      " [ 118 3478  218]\n",
      " [  25  281  542]]\n"
     ]
    }
   ],
   "source": [
    "# Calculating Confusion Matrix:\n",
    "l1_cm = confusion_matrix(y_test, l1_y_pred)\n",
    "print('Confusion Matrix: \\n',l1_cm)"
   ]
  },
  {
   "cell_type": "code",
   "execution_count": 37,
   "metadata": {},
   "outputs": [
    {
     "data": {
      "image/png": "[encoded data removed]",
      "text/plain": [
       "<Figure size 432x288 with 2 Axes>"
      ]
     },
     "metadata": {
      "needs_background": "light"
     },
     "output_type": "display_data"
    }
   ],
   "source": [
    "# Plotting Confusion Matrix:\n",
    "plot_confusion_matrix(l1_model,X_test, y_test, cmap=plt.cm.Blues, display_labels = class_labels)\n",
    "plt.title('Confusion Matrix - L1 Logistic Regression')\n",
    "plt.show()"
   ]
  },
  {
   "cell_type": "code",
   "execution_count": 38,
   "metadata": {},
   "outputs": [
    {
     "data": {
      "text/plain": [
       "<matplotlib.legend.Legend at 0x285457a7f60>"
      ]
     },
     "execution_count": 38,
     "metadata": {},
     "output_type": "execute_result"
    },
    {
     "data": {
      "image/png": "[encoded data removed]",
      "text/plain": [
       "<Figure size 432x288 with 1 Axes>"
      ]
     },
     "metadata": {
      "needs_background": "light"
     },
     "output_type": "display_data"
    }
   ],
   "source": [
    "# Calculating and Plotting ROC Curves:\n",
    "l1_fpr = {}\n",
    "l1_tpr = {}\n",
    "l1_thresh ={}\n",
    "\n",
    "for i in range(n_class):    \n",
    "    l1_fpr[i], l1_tpr[i], l1_thresh[i] = roc_curve(y_test, l1_y_proba[:,i], pos_label=i)\n",
    "    \n",
    "# plotting    \n",
    "plt.plot(l1_fpr[0], l1_tpr[0], linestyle='--',color='orange', label='Class 0 (hate) vs Rest')\n",
    "plt.plot(l1_fpr[1], l1_tpr[1], linestyle='--',color='green', label='Class 1 (offensive) vs Rest')\n",
    "plt.plot(l1_fpr[2], l1_tpr[2], linestyle='--',color='blue', label='Class 2 (neither) vs Rest')\n",
    "plt.title('L1-Logistic Regression ROC curve')\n",
    "plt.xlabel('False Positive Rate')\n",
    "plt.ylabel('True Positive rate')\n",
    "plt.legend(loc='best')"
   ]
  },
  {
   "cell_type": "markdown",
   "metadata": {},
   "source": [
    "### Naive Bayes Classifier"
   ]
  },
  {
   "cell_type": "code",
   "execution_count": 39,
   "metadata": {},
   "outputs": [
    {
     "data": {
      "text/plain": [
       "MultinomialNB()"
      ]
     },
     "execution_count": 39,
     "metadata": {},
     "output_type": "execute_result"
    }
   ],
   "source": [
    "# Defining Naive Bayes Model:\n",
    "nb_model = MultinomialNB()\n",
    "nb_model.fit(X_train, y_train)"
   ]
  },
  {
   "cell_type": "code",
   "execution_count": 40,
   "metadata": {},
   "outputs": [
    {
     "name": "stdout",
     "output_type": "stream",
     "text": [
      "              precision    recall  f1-score   support\n",
      "\n",
      "           0       0.22      0.44      0.29       295\n",
      "           1       0.92      0.78      0.84      3814\n",
      "           2       0.56      0.75      0.64       848\n",
      "\n",
      "    accuracy                           0.75      4957\n",
      "   macro avg       0.56      0.66      0.59      4957\n",
      "weighted avg       0.82      0.75      0.77      4957\n",
      "\n"
     ]
    }
   ],
   "source": [
    "# Performing Classification on the test data:\n",
    "nb_y_pred = nb_model.predict(X_test)\n",
    "nb_y_proba = nb_model.predict_proba(X_test)\n",
    "nb_report = classification_report(y_test, nb_y_pred)\n",
    "print(nb_report)"
   ]
  },
  {
   "cell_type": "code",
   "execution_count": 42,
   "metadata": {
    "scrolled": true
   },
   "outputs": [
    {
     "name": "stdout",
     "output_type": "stream",
     "text": [
      "Accuracy:  0.7510591083316522\n"
     ]
    }
   ],
   "source": [
    "# Calculating Accuracy:\n",
    "nb_accuracy = accuracy_score(y_test, nb_y_pred)\n",
    "print('Accuracy: ',nb_accuracy)"
   ]
  },
  {
   "cell_type": "code",
   "execution_count": 43,
   "metadata": {},
   "outputs": [
    {
     "name": "stdout",
     "output_type": "stream",
     "text": [
      "Precision:  0.8153918632769017\n",
      "Recall:  0.7510591083316522\n",
      "F1-Score:  0.7738177974672066\n"
     ]
    }
   ],
   "source": [
    "# Calculating Precion score, Recall score and F1 score:\n",
    "nb_ps = precision_score(y_test, nb_y_pred, average = 'weighted')\n",
    "nb_rs = recall_score(y_test, nb_y_pred, average = 'weighted')\n",
    "nb_f1 = f1_score(y_test, nb_y_pred, average = 'weighted')\n",
    "print('Precision: ',nb_ps)\n",
    "print('Recall: ',nb_rs)\n",
    "print('F1-Score: ',nb_f1)"
   ]
  },
  {
   "cell_type": "code",
   "execution_count": 41,
   "metadata": {
    "scrolled": true
   },
   "outputs": [
    {
     "name": "stdout",
     "output_type": "stream",
     "text": [
      "Confusion Matrix: \n",
      " [[ 131  104   60]\n",
      " [ 410 2957  447]\n",
      " [  57  156  635]]\n"
     ]
    }
   ],
   "source": [
    "# Calculating Confusion Matrix:\n",
    "nb_cm = confusion_matrix(y_test, nb_y_pred)\n",
    "print('Confusion Matrix: \\n',nb_cm)"
   ]
  },
  {
   "cell_type": "code",
   "execution_count": 44,
   "metadata": {},
   "outputs": [
    {
     "data": {
      "image/png": "[encoded data removed]",
      "text/plain": [
       "<Figure size 432x288 with 2 Axes>"
      ]
     },
     "metadata": {
      "needs_background": "light"
     },
     "output_type": "display_data"
    }
   ],
   "source": [
    "# Plotting Confusion Matrix:\n",
    "plot_confusion_matrix(nb_model,X_test, y_test, cmap=plt.cm.Blues, display_labels = class_labels)\n",
    "plt.title('Confusion Matrix - Naive Bayes')\n",
    "plt.show()"
   ]
  },
  {
   "cell_type": "code",
   "execution_count": 45,
   "metadata": {},
   "outputs": [
    {
     "data": {
      "text/plain": [
       "<matplotlib.legend.Legend at 0x285458b32e8>"
      ]
     },
     "execution_count": 45,
     "metadata": {},
     "output_type": "execute_result"
    },
    {
     "data": {
      "image/png": "[encoded data removed]",
      "text/plain": [
       "<Figure size 432x288 with 1 Axes>"
      ]
     },
     "metadata": {
      "needs_background": "light"
     },
     "output_type": "display_data"
    }
   ],
   "source": [
    "# Calculating and Plotting ROC Curves:\n",
    "nb_fpr = {}\n",
    "nb_tpr = {}\n",
    "nb_thresh ={}\n",
    "\n",
    "for i in range(n_class):    \n",
    "    nb_fpr[i], nb_tpr[i], nb_thresh[i] = roc_curve(y_test, nb_y_proba[:,i], pos_label=i)\n",
    "    \n",
    "# plotting    \n",
    "plt.plot(nb_fpr[0], nb_tpr[0], linestyle='--',color='orange', label='Class 0 (hate) vs Rest')\n",
    "plt.plot(nb_fpr[1], nb_tpr[1], linestyle='--',color='green', label='Class 1 (offensive) vs Rest')\n",
    "plt.plot(nb_fpr[2], nb_tpr[2], linestyle='--',color='blue', label='Class 2 (neither) vs Rest')\n",
    "plt.title('Naive Bayes ROC curve')\n",
    "plt.xlabel('False Positive Rate')\n",
    "plt.ylabel('True Positive rate')\n",
    "plt.legend(loc='best')"
   ]
  },
  {
   "cell_type": "markdown",
   "metadata": {},
   "source": [
    "### Random Forest"
   ]
  },
  {
   "cell_type": "code",
   "execution_count": 46,
   "metadata": {},
   "outputs": [
    {
     "data": {
      "text/plain": [
       "RandomForestClassifier()"
      ]
     },
     "execution_count": 46,
     "metadata": {},
     "output_type": "execute_result"
    }
   ],
   "source": [
    "# Defining Random Forest Model:\n",
    "rf_model = RandomForestClassifier()\n",
    "rf_model.fit(X_train, y_train)"
   ]
  },
  {
   "cell_type": "code",
   "execution_count": 47,
   "metadata": {
    "scrolled": true
   },
   "outputs": [
    {
     "name": "stdout",
     "output_type": "stream",
     "text": [
      "              precision    recall  f1-score   support\n",
      "\n",
      "           0       0.59      0.03      0.06       295\n",
      "           1       0.81      0.99      0.89      3814\n",
      "           2       0.86      0.29      0.44       848\n",
      "\n",
      "    accuracy                           0.81      4957\n",
      "   macro avg       0.75      0.44      0.46      4957\n",
      "weighted avg       0.81      0.81      0.76      4957\n",
      "\n"
     ]
    }
   ],
   "source": [
    "# Performing Classification on the test data:\n",
    "rf_y_pred = rf_model.predict(X_test)\n",
    "rf_y_proba = rf_model.predict_proba(X_test)\n",
    "rf_report = classification_report(y_test, rf_y_pred)\n",
    "print(rf_report)"
   ]
  },
  {
   "cell_type": "code",
   "execution_count": 49,
   "metadata": {
    "scrolled": true
   },
   "outputs": [
    {
     "name": "stdout",
     "output_type": "stream",
     "text": [
      "Accuracy:  0.8131934637885818\n"
     ]
    }
   ],
   "source": [
    "# Calculating Accuracy:\n",
    "rf_accuracy = accuracy_score(y_test, rf_y_pred)\n",
    "print('Accuracy: ',rf_accuracy)"
   ]
  },
  {
   "cell_type": "code",
   "execution_count": 50,
   "metadata": {},
   "outputs": [
    {
     "name": "stdout",
     "output_type": "stream",
     "text": [
      "Precision:  0.8059775940499329\n",
      "Recall:  0.8131934637885818\n",
      "F1-Score:  0.7643277092145109\n"
     ]
    }
   ],
   "source": [
    "# Calculating Precion score, Recall score and F1 score:\n",
    "rf_ps = precision_score(y_test, rf_y_pred, average = 'weighted')\n",
    "rf_rs = recall_score(y_test, rf_y_pred, average = 'weighted')\n",
    "rf_f1 = f1_score(y_test, rf_y_pred, average = 'weighted')\n",
    "print('Precision: ',rf_ps)\n",
    "print('Recall: ',rf_rs)\n",
    "print('F1-Score: ',rf_f1)"
   ]
  },
  {
   "cell_type": "code",
   "execution_count": 48,
   "metadata": {
    "scrolled": true
   },
   "outputs": [
    {
     "name": "stdout",
     "output_type": "stream",
     "text": [
      "Confusion Matrix: \n",
      " [[  10  278    7]\n",
      " [   7 3773   34]\n",
      " [   0  600  248]]\n"
     ]
    }
   ],
   "source": [
    "# Calculating Confusion Matrix:\n",
    "rf_cm = confusion_matrix(y_test, rf_y_pred)\n",
    "print('Confusion Matrix: \\n',rf_cm)"
   ]
  },
  {
   "cell_type": "code",
   "execution_count": 51,
   "metadata": {
    "scrolled": true
   },
   "outputs": [
    {
     "data": {
      "image/png": "[encoded data removed]",
      "text/plain": [
       "<Figure size 432x288 with 2 Axes>"
      ]
     },
     "metadata": {
      "needs_background": "light"
     },
     "output_type": "display_data"
    }
   ],
   "source": [
    "# Plotting Confusion Matrix:\n",
    "plot_confusion_matrix(rf_model,X_test, y_test, cmap=plt.cm.Blues, display_labels = class_labels)\n",
    "plt.title('Confusion Matrix - Random Forest')\n",
    "plt.show()"
   ]
  },
  {
   "cell_type": "code",
   "execution_count": 52,
   "metadata": {},
   "outputs": [
    {
     "data": {
      "text/plain": [
       "<matplotlib.legend.Legend at 0x28546300be0>"
      ]
     },
     "execution_count": 52,
     "metadata": {},
     "output_type": "execute_result"
    },
    {
     "data": {
      "image/png": "[encoded data removed]",
      "text/plain": [
       "<Figure size 432x288 with 1 Axes>"
      ]
     },
     "metadata": {
      "needs_background": "light"
     },
     "output_type": "display_data"
    }
   ],
   "source": [
    "# Calculating and Plotting ROC Curves:\n",
    "rf_fpr = {}\n",
    "rf_tpr = {}\n",
    "rf_thresh ={}\n",
    "\n",
    "for i in range(n_class):    \n",
    "    rf_fpr[i], rf_tpr[i], rf_thresh[i] = roc_curve(y_test, rf_y_proba[:,i], pos_label=i)\n",
    "    \n",
    "# plotting    \n",
    "plt.plot(rf_fpr[0], rf_tpr[0], linestyle='--',color='orange', label='Class 0 (hate) vs Rest')\n",
    "plt.plot(rf_fpr[1], rf_tpr[1], linestyle='--',color='green', label='Class 1 (offensive) vs Rest')\n",
    "plt.plot(rf_fpr[2], rf_tpr[2], linestyle='--',color='blue', label='Class 2 (neither) vs Rest')\n",
    "plt.title('Random Forest ROC curve')\n",
    "plt.xlabel('False Positive Rate')\n",
    "plt.ylabel('True Positive rate')\n",
    "plt.legend(loc='best')"
   ]
  }
 ],
 "metadata": {
  "kernelspec": {
   "display_name": "Python 3",
   "language": "python",
   "name": "python3"
  },
  "language_info": {
   "codemirror_mode": {
    "name": "ipython",
    "version": 3
   },
   "file_extension": ".py",
   "mimetype": "text/x-python",
   "name": "python",
   "nbconvert_exporter": "python",
   "pygments_lexer": "ipython3",
   "version": "3.7.3"
  }
 },
 "nbformat": 4,
 "nbformat_minor": 2
}
